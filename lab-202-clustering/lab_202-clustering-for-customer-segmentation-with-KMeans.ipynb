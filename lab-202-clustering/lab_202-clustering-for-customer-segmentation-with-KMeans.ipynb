{
 "cells": [
  {
   "cell_type": "markdown",
   "id": "feca7de4",
   "metadata": {},
   "source": [
    "# Clustering for Customer Segmentation with KMeans\n",
    "\n",
    "\n",
    "## Key Takeaways\n",
    "In this lab, you will gain a comprehensive understanding of KMeans clustering and its applications in data segmentation. \n",
    "\n",
    "_You will learn how to:_\n",
    "- choose the optimal number of clusters, \n",
    "- visualize cluster results, and \n",
    "- apply clustering techniques to real-world datasets. \n",
    "\n",
    "Through practical exercises and projects, you will develop the skills necessary to leverage clustering for data-driven decision-making in various domains."
   ]
  },
  {
   "cell_type": "markdown",
   "id": "09192155",
   "metadata": {},
   "source": [
    "## Applications in Market Segmentation\n",
    "\n",
    "__How data science helps:__\n",
    "\n",
    "- Businesses analyze customer data to create targeted marketing strategies that cater to specific groups (segments), improving engagement and loyalty.\n",
    "\n",
    "__Types of customer segmentation features:__\n",
    "\n",
    "- Demographic, Geographic, Psychographic, and Behavioural.\n",
    "\n",
    "__Demographic__ - grouping is based on demographic variables such as age, gender, income, occupation, and education level. \n",
    "\n",
    "__Geographic__ - group according to their location, which could be as broad as a country or as specific as a neighborhood. This helps in tailoring marketing campaigns that are culturally and regionally relevant. \n",
    "\n",
    "__Psychographic__ - includes lifestyle, values, attitudes, and personal traits. \n",
    "\n",
    "__Behavioural__ - customers are divided based on their behaviour patterns related to the business, such as purchase history, product usage frequency, brand loyalty, and user status (new, potential, or loyal customers).\n",
    "\n",
    "__What data do I regularly segment on for Email Marketing Segmentation?__ \n",
    "\n",
    "Recency Frequency Monetary (RFM) features, time on list, time since last purchase, spend in last 30 days, products purchased, interests (what they clicking on), events attended, email scoring, clicked on a product page (which ones?), geographic region, number of tags, number of events, and many more.\n",
    "\n",
    "__Algorithms used:__\n",
    "\n",
    "- KMeans - great tool for finding similar customers.\n"
   ]
  },
  {
   "cell_type": "markdown",
   "id": "27acb67b",
   "metadata": {},
   "source": [
    "## Prepare Data"
   ]
  },
  {
   "cell_type": "code",
   "execution_count": 2,
   "id": "b61d5f00",
   "metadata": {},
   "outputs": [],
   "source": [
    "# Libraries\n",
    "\n",
    "# Data manipulation\n",
    "import pandas as pd\n",
    "# from pandas_profiling import ProfileReport\n",
    "\n",
    "# Data Visualization\n",
    "import matplotlib.pyplot as plt\n",
    "import plotly.express as px\n",
    "\n",
    "# Date manipulation\n",
    "from datetime import date, datetime, timedelta\n",
    "\n",
    "# Clustering algorithm\n",
    "from sklearn.cluster import KMeans\n",
    "\n",
    "# For Cat features\n",
    "from category_encoders import OneHotEncoder\n",
    "\n",
    "# For Scaling features\n",
    "from sklearn.preprocessing import StandardScaler\n",
    "\n",
    "# Model pipeline\n",
    "from sklearn.pipeline import make_pipeline\n",
    "\n",
    "# Reduce dimensionality\n",
    "from sklearn.decomposition import PCA\n",
    "\n",
    "# Evaluation metric\n",
    "from sklearn.metrics import silhouette_score\n",
    "\n",
    "# Warning\n",
    "import warnings\n",
    "warnings.simplefilter('ignore', category=Warning, lineno=0, append=False)"
   ]
  },
  {
   "cell_type": "markdown",
   "id": "0142a131",
   "metadata": {},
   "source": [
    "### Import"
   ]
  },
  {
   "cell_type": "markdown",
   "id": "aa0ea625",
   "metadata": {},
   "source": [
    "Let's look at the first few rows of data."
   ]
  },
  {
   "cell_type": "code",
   "execution_count": 3,
   "id": "8980c732",
   "metadata": {},
   "outputs": [
    {
     "data": {
      "text/html": [
       "<div>\n",
       "<style scoped>\n",
       "    .dataframe tbody tr th:only-of-type {\n",
       "        vertical-align: middle;\n",
       "    }\n",
       "\n",
       "    .dataframe tbody tr th {\n",
       "        vertical-align: top;\n",
       "    }\n",
       "\n",
       "    .dataframe thead th {\n",
       "        text-align: right;\n",
       "    }\n",
       "</style>\n",
       "<table border=\"1\" class=\"dataframe\">\n",
       "  <thead>\n",
       "    <tr style=\"text-align: right;\">\n",
       "      <th></th>\n",
       "      <th>ID</th>\n",
       "      <th>Year_Birth</th>\n",
       "      <th>Education</th>\n",
       "      <th>Marital_Status</th>\n",
       "      <th>Income</th>\n",
       "      <th>Kidhome</th>\n",
       "      <th>Teenhome</th>\n",
       "      <th>Dt_Customer</th>\n",
       "      <th>Recency</th>\n",
       "      <th>MntWines</th>\n",
       "      <th>...</th>\n",
       "      <th>NumWebVisitsMonth</th>\n",
       "      <th>AcceptedCmp3</th>\n",
       "      <th>AcceptedCmp4</th>\n",
       "      <th>AcceptedCmp5</th>\n",
       "      <th>AcceptedCmp1</th>\n",
       "      <th>AcceptedCmp2</th>\n",
       "      <th>Complain</th>\n",
       "      <th>Z_CostContact</th>\n",
       "      <th>Z_Revenue</th>\n",
       "      <th>Response</th>\n",
       "    </tr>\n",
       "  </thead>\n",
       "  <tbody>\n",
       "    <tr>\n",
       "      <th>0</th>\n",
       "      <td>5524</td>\n",
       "      <td>1957</td>\n",
       "      <td>Graduation</td>\n",
       "      <td>Single</td>\n",
       "      <td>58138.0</td>\n",
       "      <td>0</td>\n",
       "      <td>0</td>\n",
       "      <td>04-09-2012</td>\n",
       "      <td>58</td>\n",
       "      <td>635</td>\n",
       "      <td>...</td>\n",
       "      <td>7</td>\n",
       "      <td>0</td>\n",
       "      <td>0</td>\n",
       "      <td>0</td>\n",
       "      <td>0</td>\n",
       "      <td>0</td>\n",
       "      <td>0</td>\n",
       "      <td>3</td>\n",
       "      <td>11</td>\n",
       "      <td>1</td>\n",
       "    </tr>\n",
       "    <tr>\n",
       "      <th>1</th>\n",
       "      <td>2174</td>\n",
       "      <td>1954</td>\n",
       "      <td>Graduation</td>\n",
       "      <td>Single</td>\n",
       "      <td>46344.0</td>\n",
       "      <td>1</td>\n",
       "      <td>1</td>\n",
       "      <td>08-03-2014</td>\n",
       "      <td>38</td>\n",
       "      <td>11</td>\n",
       "      <td>...</td>\n",
       "      <td>5</td>\n",
       "      <td>0</td>\n",
       "      <td>0</td>\n",
       "      <td>0</td>\n",
       "      <td>0</td>\n",
       "      <td>0</td>\n",
       "      <td>0</td>\n",
       "      <td>3</td>\n",
       "      <td>11</td>\n",
       "      <td>0</td>\n",
       "    </tr>\n",
       "    <tr>\n",
       "      <th>2</th>\n",
       "      <td>4141</td>\n",
       "      <td>1965</td>\n",
       "      <td>Graduation</td>\n",
       "      <td>Together</td>\n",
       "      <td>71613.0</td>\n",
       "      <td>0</td>\n",
       "      <td>0</td>\n",
       "      <td>21-08-2013</td>\n",
       "      <td>26</td>\n",
       "      <td>426</td>\n",
       "      <td>...</td>\n",
       "      <td>4</td>\n",
       "      <td>0</td>\n",
       "      <td>0</td>\n",
       "      <td>0</td>\n",
       "      <td>0</td>\n",
       "      <td>0</td>\n",
       "      <td>0</td>\n",
       "      <td>3</td>\n",
       "      <td>11</td>\n",
       "      <td>0</td>\n",
       "    </tr>\n",
       "    <tr>\n",
       "      <th>3</th>\n",
       "      <td>6182</td>\n",
       "      <td>1984</td>\n",
       "      <td>Graduation</td>\n",
       "      <td>Together</td>\n",
       "      <td>26646.0</td>\n",
       "      <td>1</td>\n",
       "      <td>0</td>\n",
       "      <td>10-02-2014</td>\n",
       "      <td>26</td>\n",
       "      <td>11</td>\n",
       "      <td>...</td>\n",
       "      <td>6</td>\n",
       "      <td>0</td>\n",
       "      <td>0</td>\n",
       "      <td>0</td>\n",
       "      <td>0</td>\n",
       "      <td>0</td>\n",
       "      <td>0</td>\n",
       "      <td>3</td>\n",
       "      <td>11</td>\n",
       "      <td>0</td>\n",
       "    </tr>\n",
       "    <tr>\n",
       "      <th>4</th>\n",
       "      <td>5324</td>\n",
       "      <td>1981</td>\n",
       "      <td>PhD</td>\n",
       "      <td>Married</td>\n",
       "      <td>58293.0</td>\n",
       "      <td>1</td>\n",
       "      <td>0</td>\n",
       "      <td>19-01-2014</td>\n",
       "      <td>94</td>\n",
       "      <td>173</td>\n",
       "      <td>...</td>\n",
       "      <td>5</td>\n",
       "      <td>0</td>\n",
       "      <td>0</td>\n",
       "      <td>0</td>\n",
       "      <td>0</td>\n",
       "      <td>0</td>\n",
       "      <td>0</td>\n",
       "      <td>3</td>\n",
       "      <td>11</td>\n",
       "      <td>0</td>\n",
       "    </tr>\n",
       "  </tbody>\n",
       "</table>\n",
       "<p>5 rows × 29 columns</p>\n",
       "</div>"
      ],
      "text/plain": [
       "     ID  Year_Birth   Education Marital_Status   Income  Kidhome  Teenhome  \\\n",
       "0  5524        1957  Graduation         Single  58138.0        0         0   \n",
       "1  2174        1954  Graduation         Single  46344.0        1         1   \n",
       "2  4141        1965  Graduation       Together  71613.0        0         0   \n",
       "3  6182        1984  Graduation       Together  26646.0        1         0   \n",
       "4  5324        1981         PhD        Married  58293.0        1         0   \n",
       "\n",
       "  Dt_Customer  Recency  MntWines  ...  NumWebVisitsMonth  AcceptedCmp3  \\\n",
       "0  04-09-2012       58       635  ...                  7             0   \n",
       "1  08-03-2014       38        11  ...                  5             0   \n",
       "2  21-08-2013       26       426  ...                  4             0   \n",
       "3  10-02-2014       26        11  ...                  6             0   \n",
       "4  19-01-2014       94       173  ...                  5             0   \n",
       "\n",
       "   AcceptedCmp4  AcceptedCmp5  AcceptedCmp1  AcceptedCmp2  Complain  \\\n",
       "0             0             0             0             0         0   \n",
       "1             0             0             0             0         0   \n",
       "2             0             0             0             0         0   \n",
       "3             0             0             0             0         0   \n",
       "4             0             0             0             0         0   \n",
       "\n",
       "   Z_CostContact  Z_Revenue  Response  \n",
       "0              3         11         1  \n",
       "1              3         11         0  \n",
       "2              3         11         0  \n",
       "3              3         11         0  \n",
       "4              3         11         0  \n",
       "\n",
       "[5 rows x 29 columns]"
      ]
     },
     "execution_count": 3,
     "metadata": {},
     "output_type": "execute_result"
    }
   ],
   "source": [
    "# import data\n",
    "raw_df = pd.read_csv('./data/marketing_campaign.csv')\n",
    "raw_df.head()"
   ]
  },
  {
   "cell_type": "markdown",
   "id": "bdaa8c31",
   "metadata": {},
   "source": [
    "Its always good to get little more information about the data like data types, missing values and others. Info function is very helpful for this."
   ]
  },
  {
   "cell_type": "code",
   "execution_count": 4,
   "id": "6b5944eb",
   "metadata": {},
   "outputs": [
    {
     "name": "stdout",
     "output_type": "stream",
     "text": [
      "<class 'pandas.core.frame.DataFrame'>\n",
      "RangeIndex: 2240 entries, 0 to 2239\n",
      "Data columns (total 29 columns):\n",
      " #   Column               Non-Null Count  Dtype  \n",
      "---  ------               --------------  -----  \n",
      " 0   ID                   2240 non-null   int64  \n",
      " 1   Year_Birth           2240 non-null   int64  \n",
      " 2   Education            2240 non-null   object \n",
      " 3   Marital_Status       2240 non-null   object \n",
      " 4   Income               2216 non-null   float64\n",
      " 5   Kidhome              2240 non-null   int64  \n",
      " 6   Teenhome             2240 non-null   int64  \n",
      " 7   Dt_Customer          2240 non-null   object \n",
      " 8   Recency              2240 non-null   int64  \n",
      " 9   MntWines             2240 non-null   int64  \n",
      " 10  MntFruits            2240 non-null   int64  \n",
      " 11  MntMeatProducts      2240 non-null   int64  \n",
      " 12  MntFishProducts      2240 non-null   int64  \n",
      " 13  MntSweetProducts     2240 non-null   int64  \n",
      " 14  MntGoldProds         2240 non-null   int64  \n",
      " 15  NumDealsPurchases    2240 non-null   int64  \n",
      " 16  NumWebPurchases      2240 non-null   int64  \n",
      " 17  NumCatalogPurchases  2240 non-null   int64  \n",
      " 18  NumStorePurchases    2240 non-null   int64  \n",
      " 19  NumWebVisitsMonth    2240 non-null   int64  \n",
      " 20  AcceptedCmp3         2240 non-null   int64  \n",
      " 21  AcceptedCmp4         2240 non-null   int64  \n",
      " 22  AcceptedCmp5         2240 non-null   int64  \n",
      " 23  AcceptedCmp1         2240 non-null   int64  \n",
      " 24  AcceptedCmp2         2240 non-null   int64  \n",
      " 25  Complain             2240 non-null   int64  \n",
      " 26  Z_CostContact        2240 non-null   int64  \n",
      " 27  Z_Revenue            2240 non-null   int64  \n",
      " 28  Response             2240 non-null   int64  \n",
      "dtypes: float64(1), int64(25), object(3)\n",
      "memory usage: 507.6+ KB\n",
      "None\n"
     ]
    }
   ],
   "source": [
    "# Understand data structure\n",
    "print(raw_df.info())"
   ]
  },
  {
   "cell_type": "markdown",
   "id": "53bd4547",
   "metadata": {},
   "source": [
    "We see that majority of the features are integers and very few float and object type. It also shows that there is a column with missing values which is `Income`. There is a better way to understand exactly how many values are missing from this feature."
   ]
  },
  {
   "cell_type": "markdown",
   "id": "6d5ed2ef",
   "metadata": {},
   "source": [
    "#### Missing Values"
   ]
  },
  {
   "cell_type": "code",
   "execution_count": null,
   "id": "310a8ad7",
   "metadata": {},
   "outputs": [],
   "source": [
    "# Checking missing values\n",
    "raw_df.isnull().sum()"
   ]
  },
  {
   "cell_type": "code",
   "execution_count": null,
   "id": "1ead792d",
   "metadata": {},
   "outputs": [],
   "source": [
    "# Fill in missing values\n",
    "raw_df.loc[\n",
    "    raw_df['Income'].isnull()==True,# row location where value == True for NaN\n",
    "    'Income' # col location\n",
    "    ] = raw_df['Income'].mean()"
   ]
  },
  {
   "cell_type": "code",
   "execution_count": null,
   "id": "cf8a2871",
   "metadata": {},
   "outputs": [],
   "source": [
    "# Checking missing values\n",
    "raw_df.isnull().sum()"
   ]
  },
  {
   "cell_type": "markdown",
   "id": "351d8554",
   "metadata": {},
   "source": [
    "Now, if you run the previous command again, there should be no missing values."
   ]
  },
  {
   "cell_type": "code",
   "execution_count": null,
   "id": "7d4e854c",
   "metadata": {},
   "outputs": [],
   "source": [
    "raw_df.Z_CostContact.unique()"
   ]
  },
  {
   "cell_type": "markdown",
   "id": "626bb3c0",
   "metadata": {},
   "source": [
    "Before moving any further, lets try to understand the what each feature means.\n",
    "- **ID**: Identification of a customer,\n",
    "- **Year_Birth**: Customer's year of birth,\n",
    "- **Education**: Customer's education level,\n",
    "- **Marital_Status**: Customer's marital status,  ('Single', 'Together', 'Married', 'Divorced', 'Widow', etc),\n",
    "- **Income**: Amount of money in customer account,\n",
    "- **Kidhome**: Number of kids at home,\n",
    "- **Teenhome**: Number of teenagers at customer's home,\n",
    "- **Dt_Customer**: Date when customer make last purchase,\n",
    "- **Recency**: Number of days since customer's last purchase,\n",
    "- **[MntWines, MntFruits , MntMeatProducts, MntFishProducts, MntSweetProducts, MntGoldProds]**: Amount of purchases by customer on each product,\n",
    "- **[NumDealsPurchases, NumWebPurchases, NumCatalogPurchases, NumStorePurchases]**: How frequently the purchases are being made, based on different ways to purchase products.\n",
    "- **NumWebVisitsMonth**: How frequent customers visit the website \n",
    "- **[AcceptedCmp3, AcceptedCmp4, AcceptedCmp5, AcceptedCmp1, AcceptedCmp2]**: \n",
    "- **Complain**: Customer complaints (0 - no complaint, 1 - complaint)\n",
    "- **Z_CostContact**: Customer contact\n",
    "- **Z_Revenue**:\n",
    "- **Response**:"
   ]
  },
  {
   "cell_type": "markdown",
   "id": "a453738e",
   "metadata": {},
   "source": [
    "### Explore"
   ]
  },
  {
   "cell_type": "code",
   "execution_count": null,
   "id": "29760bb1",
   "metadata": {},
   "outputs": [],
   "source": [
    "# Cast Dt_Customer from object to date\n",
    "pd.to_datetime(raw_df['Dt_Customer'],format =\"%d-%m-%Y\")"
   ]
  },
  {
   "cell_type": "code",
   "execution_count": null,
   "id": "d8b984d8",
   "metadata": {},
   "outputs": [],
   "source": [
    "#Cat features: want to check the number of features in each category\n",
    "cat_features = ['Education', 'Marital_Status']\n",
    "for i in cat_features:\n",
    "    print(f'Feature {i}:\\n {raw_df[i].unique()}')\n",
    "# raw_df"
   ]
  },
  {
   "cell_type": "code",
   "execution_count": null,
   "id": "6a27c08d",
   "metadata": {},
   "outputs": [],
   "source": [
    "raw_df.describe(include='number')\n",
    "#look at variability and if you can see zeros it indicates that those attributes might not be needed"
   ]
  },
  {
   "cell_type": "markdown",
   "id": "7e854a60",
   "metadata": {},
   "source": [
    "#### Create `prepare_data` function"
   ]
  },
  {
   "cell_type": "code",
   "execution_count": null,
   "id": "81c3f3eb",
   "metadata": {},
   "outputs": [],
   "source": [
    "def prepare_data(data):\n",
    "\n",
    "    data = (\n",
    "        data\n",
    "        # Remove NA values\n",
    "        .dropna()\n",
    "        \n",
    "        # Convert Dt_Customer datatype to Date\n",
    "        .assign(\n",
    "            Dt_Customer = lambda x: pd.to_datetime(x['Dt_Customer'], format=\"%d-%m-%Y\")\n",
    "            )\n",
    "        \n",
    "        # Feature: Customer Age - max customer date\n",
    "        .assign(\n",
    "            Cust_Age = lambda x: (x['Dt_Customer'].min() - x['Dt_Customer'])/timedelta(days=1)\n",
    "            )\n",
    "        \n",
    "        # Spent = Sum(Mnt...)\n",
    "        .assign(\n",
    "            Spent = lambda x: x.loc[:,x.columns.str.contains('Mnt')].agg(\n",
    "                ['sum'], #function to use\n",
    "                axis=1 # tell pandas to aggregate each row\n",
    "                )\n",
    "            )\n",
    "        \n",
    "        # Remove unnecessary features\n",
    "        .drop(\n",
    "            columns = ['ID', 'Z_CostContact', 'Z_Revenue', 'Response', 'Dt_Customer']\n",
    "            )\n",
    "        )\n",
    "    \n",
    "    # Transform Cat features\n",
    "    prepared_df = OneHotEncoder(use_cat_names=True).fit_transform(data)\n",
    "    \n",
    "    # Output: cleaned dataframe\n",
    "    return prepared_df"
   ]
  },
  {
   "cell_type": "markdown",
   "id": "1b923fe1",
   "metadata": {},
   "source": [
    "### Split"
   ]
  },
  {
   "cell_type": "code",
   "execution_count": null,
   "id": "ca7ab381",
   "metadata": {},
   "outputs": [],
   "source": [
    "# Features to use\n",
    "X = prepare_data(raw_df)\n",
    "X.head()"
   ]
  },
  {
   "cell_type": "markdown",
   "id": "b0bf582e",
   "metadata": {},
   "source": [
    "## Build Model"
   ]
  },
  {
   "cell_type": "markdown",
   "id": "2bccb4d8",
   "metadata": {},
   "source": [
    "### Iterate: Optimizing the Number of Clusters"
   ]
  },
  {
   "cell_type": "code",
   "execution_count": null,
   "id": "bc9c3a00",
   "metadata": {},
   "outputs": [],
   "source": [
    "n_clusters = range(2,8)\n",
    "inertia_errors = []\n",
    "silhouette_scores = []\n",
    "\n",
    "# Add `for` loop to train model and calculate inertia, silhouette score.\n",
    "for k in n_clusters:\n",
    "    # Build model\n",
    "    model = make_pipeline(\n",
    "        StandardScaler(), # clustering using distances - scaling is recommended\n",
    "        KMeans(n_clusters=k, random_state=42)\n",
    "    )\n",
    "    # Train model\n",
    "    model.fit(X)\n",
    "    # Calculate inertia\n",
    "    inertia_errors.append(model.named_steps[\"kmeans\"].inertia_)\n",
    "    # Calculate silhouette score\n",
    "    silhouette_scores.append(\n",
    "        silhouette_score(\n",
    "            X, \n",
    "            model.named_steps[\"kmeans\"].labels_)\n",
    "    )\n",
    "\n",
    "print(\"Inertia:\", inertia_errors[:3])\n",
    "print()\n",
    "print(\"Silhouette Scores:\", silhouette_scores[:3])"
   ]
  },
  {
   "cell_type": "code",
   "execution_count": null,
   "id": "2f40e630",
   "metadata": {},
   "outputs": [],
   "source": [
    "import plotly.express as px\n",
    "# Create line plot of `inertia_errors` vs `n_clusters`\n",
    "fig = px.line(\n",
    "    x=n_clusters,\n",
    "    y=inertia_errors,\n",
    "    title=\"K-Means Model: Inertia vs Number of Clusters\"\n",
    ")\n",
    "fig.update_layout(xaxis_title=\"Number of Clusters\", yaxis_title=\"Inertia\")\n",
    "fig.show()"
   ]
  },
  {
   "cell_type": "code",
   "execution_count": null,
   "id": "74ee1eb7",
   "metadata": {},
   "outputs": [],
   "source": [
    "# Create a line plot of `silhouette_scores` vs `n_clusters`\n",
    "fig = fig = px.line(\n",
    "    x=n_clusters,\n",
    "    y=silhouette_scores,\n",
    "    title=\"K-Means Model: Silhouette Score vs Number of Clusters (Elbow Method)\"\n",
    ")\n",
    "fig.update_layout(\n",
    "    xaxis_title=\"Number of Clusters\", yaxis_title=\"Silhouette Score\"\n",
    ")\n",
    "fig.show()"
   ]
  },
  {
   "cell_type": "markdown",
   "id": "0fb0b05b",
   "metadata": {},
   "source": [
    "### Evaluate"
   ]
  },
  {
   "cell_type": "code",
   "execution_count": null,
   "id": "2bd01601",
   "metadata": {},
   "outputs": [],
   "source": [
    "# final_model labels\n",
    "final_model = make_pipeline(\n",
    "    StandardScaler(),\n",
    "    KMeans(n_clusters=3, random_state=42)\n",
    ")\n",
    "# Predict class labels\n",
    "labels = final_model.fit_predict(X)\n",
    "print(labels[:10])"
   ]
  },
  {
   "cell_type": "code",
   "execution_count": null,
   "id": "75bb28d4",
   "metadata": {},
   "outputs": [],
   "source": [
    "X['labels'] = final_model.named_steps[\"kmeans\"].labels_\n",
    "print(labels[:10])"
   ]
  },
  {
   "cell_type": "markdown",
   "id": "74df6d44",
   "metadata": {},
   "source": [
    "## Communicate\n",
    "\n",
    "### 1. Using `plotnine` from `ggplot` library package coming from R language."
   ]
  },
  {
   "cell_type": "code",
   "execution_count": null,
   "id": "2013fcaf",
   "metadata": {},
   "outputs": [],
   "source": [
    "import plotnine as pn\n",
    "from plotnine import *\n",
    "p = (\n",
    "    # Create a plot area\n",
    "    ggplot(X, aes(x='Spent', y='Income')) +\n",
    "    # Add points into the plot area\n",
    "    geom_point(aes(fill = X['labels'].astype(str)))\n",
    "    )\n",
    "# Add a blue smooth line\n",
    "p = p + geom_smooth(\n",
    "    color = \"blue\",\n",
    "    se = False\n",
    "    )\n",
    "# Format x-axis scale to display `$000,000`\n",
    "p = p + scale_x_continuous(\n",
    "    name='Spent',\n",
    "    labels = lambda x: [f'${y:,.0f}' for y in x]\n",
    "    )\n",
    "# Format y-axis scale to display `$000,000`\n",
    "p = p + scale_y_continuous(\n",
    "    name='Income',\n",
    "    labels = lambda x: [f'${x:,.0f}' for x in x],\n",
    "    limits=(0,200_000)\n",
    "    )\n",
    "# Add title to the plot\n",
    "p = p + labs(\n",
    "    title = \"Customer Clusters: Spent vs Income\"\n",
    "    ) + theme_classic() # Add plot theme\n",
    "\n",
    "p.show()"
   ]
  },
  {
   "cell_type": "markdown",
   "id": "7c36eae5",
   "metadata": {},
   "source": [
    "### 2. Visualization using (PCA)"
   ]
  },
  {
   "cell_type": "code",
   "execution_count": null,
   "id": "be8c2ec8",
   "metadata": {},
   "outputs": [],
   "source": [
    "# Instantiate transformer\n",
    "pca = PCA(n_components=2, random_state=42)\n",
    "\n",
    "# Transform `X`\n",
    "X_t = pca.fit_transform(X)\n",
    "X_t\n",
    "# # Put `X_t` into DataFrame\n",
    "X_pca = pd.DataFrame(X_t, columns=[\"PC1\", \"PC2\"])\n",
    "\n",
    "print(\"X_pca shape:\", X_pca.shape)\n",
    "X_pca.head()"
   ]
  },
  {
   "cell_type": "code",
   "execution_count": null,
   "id": "6d9c5c81",
   "metadata": {},
   "outputs": [],
   "source": [
    "# Create scatter plot\n",
    "fig = px.scatter(\n",
    "    data_frame=X_pca,\n",
    "    x=\"PC1\",\n",
    "    y=\"PC2\",\n",
    "    color=labels.astype(str),\n",
    "    title=\"Customer Clusters: Spent vs Income\"\n",
    ")\n",
    "fig.update_layout(xaxis_title=\"Spent\", \n",
    "                  yaxis_title=\"Income\")\n",
    "fig.show()"
   ]
  }
 ],
 "metadata": {
  "kernelspec": {
   "display_name": "Python 3",
   "language": "python",
   "name": "python3"
  },
  "language_info": {
   "codemirror_mode": {
    "name": "ipython",
    "version": 3
   },
   "file_extension": ".py",
   "mimetype": "text/x-python",
   "name": "python",
   "nbconvert_exporter": "python",
   "pygments_lexer": "ipython3",
   "version": "3.11.9"
  }
 },
 "nbformat": 4,
 "nbformat_minor": 5
}
